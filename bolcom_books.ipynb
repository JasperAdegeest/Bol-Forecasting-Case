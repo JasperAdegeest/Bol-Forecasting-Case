{
 "cells": [
  {
   "cell_type": "code",
   "execution_count": null,
   "id": "f6069603-aaa0-4aa9-bc84-53de599ca105",
   "metadata": {
    "pycharm": {
     "name": "#%%\n"
    }
   },
   "outputs": [],
   "source": [
    "from typing import Optional, List, Tuple\n",
    "\n",
    "import matplotlib.pyplot as plt\n",
    "import numpy as np\n",
    "import pandas as pd\n",
    "\n",
    "%matplotlib inline\n",
    "plt.rcParams[\"font.size\"] = 14\n",
    "plt.rcParams['figure.figsize'] = (16, 4.0)\n",
    "\n",
    "from sklearn.linear_model import LinearRegression\n",
    "from sklearn.base import BaseEstimator\n",
    "from sklearn.ensemble import GradientBoostingRegressor\n",
    "from sklearn.pipeline import Pipeline\n",
    "from sklearn.preprocessing import OneHotEncoder\n",
    "from sklearn.compose import ColumnTransformer\n",
    "from sklearn.metrics import mean_absolute_error"
   ]
  },
  {
   "cell_type": "code",
   "execution_count": null,
   "id": "1f3cf94a-8193-45df-a0d8-00fb081f37f8",
   "metadata": {
    "pycharm": {
     "name": "#%%\n"
    }
   },
   "outputs": [],
   "source": [
    "books = pd.read_csv('data/bol_books.csv')\n",
    "books['date'] = pd.to_datetime(books.date)\n",
    "books"
   ]
  },
  {
   "cell_type": "code",
   "execution_count": null,
   "id": "74ec45fa-4b4a-430a-bcfb-4e756942fda6",
   "metadata": {
    "pycharm": {
     "name": "#%%\n"
    }
   },
   "outputs": [],
   "source": [
    "plt.plot(books.date, books.n)"
   ]
  },
  {
   "cell_type": "markdown",
   "id": "5023b116-08bd-4859-b30b-9ab4f8f1fda6",
   "metadata": {
    "pycharm": {
     "name": "#%% md\n"
    }
   },
   "source": [
    "#### 1. Plot two centered rolling means with two different windows"
   ]
  },
  {
   "cell_type": "code",
   "execution_count": null,
   "id": "f768b182-28d5-40f3-8b8e-d34604481b8a",
   "metadata": {
    "pycharm": {
     "name": "#%%\n"
    }
   },
   "outputs": [],
   "source": [
    "# TODO: CREATE A ROLLING WINDOW OF THE PREVIOUS SALES OF THE lAST 10 MONTHS, THIS CAN BE A NICE INITIAL PREDICTOR (https://pandas.pydata.org/pandas-docs/stable/reference/api/pandas.DataFrame.rolling.html)\n",
    "rolling_window_sales = books.rolling(10, center=False).mean()\n",
    "# TODO: END CODEBLOCK\n",
    "\n",
    "plt.plot(books.date, books.n, label='Actual sales')\n",
    "plt.plot(books.date, rolling_window_sales, label='Rolling window sales')\n",
    "plt.legend()\n",
    "plt.show()"
   ]
  },
  {
   "cell_type": "markdown",
   "id": "dc768f10-7a99-4462-9d69-bb0eec87373a",
   "metadata": {
    "pycharm": {
     "name": "#%% md\n"
    }
   },
   "source": [
    "#### 2. Fit and plot a linear model. Does it adequately represent the trend?"
   ]
  },
  {
   "cell_type": "code",
   "execution_count": null,
   "outputs": [],
   "source": [
    "def fit_and_plot_model(X: pd.DataFrame, y_true: pd.Series, dates: List, sklearn_model: BaseEstimator, pre_processor: Optional[ColumnTransformer] = None, X_train: Optional[pd.DataFrame] = None, y_train: Optional[pd.DataFrame] = None, X_test: Optional[pd.DataFrame] = None, y_test: Optional[pd.DataFrame] = None):\n",
    "    pipeline_steps = [('model', sklearn_model)]\n",
    "    if pre_processor:\n",
    "        pipeline_steps.insert(0, ('preprocess', pre_processor))\n",
    "\n",
    "    pipeline = Pipeline(pipeline_steps)\n",
    "\n",
    "    if X_train is None or y_train is None or X_test is None or y_test is None:\n",
    "        X_train = X\n",
    "        y_train = y_true\n",
    "        X_test = X\n",
    "        y_test = y_true\n",
    "    else:\n",
    "        plt.axvline(x=dates[len(X_train)], label='Start of the test set', c='red')\n",
    "\n",
    "    pipeline = pipeline.fit(X_train, y_train)\n",
    "\n",
    "    y_pred = pipeline.predict(X_test)\n",
    "\n",
    "    print(f\"Mean absolute error is {round(mean_absolute_error(y_test, y_pred), 3)}\")\n",
    "\n",
    "    plt.plot(dates, y_true, label='Actual sales')\n",
    "    plt.plot(dates, pipeline.predict(X), label='Predicted sales')\n",
    "    plt.legend()\n",
    "    plt.show()"
   ],
   "metadata": {
    "collapsed": false,
    "pycharm": {
     "name": "#%%\n"
    }
   }
  },
  {
   "cell_type": "code",
   "execution_count": null,
   "outputs": [],
   "source": [
    "# TODO: DEFINE X AS A NUMERIC SEQUENCE THAT INCREASES 1 BY 1 STARTING FROM 0 | DEFINE Y AS THE TARGET (THE ACTUAL SALES NUMBERS)\n",
    "books['period_num'] = np.arange(len(books.index))\n",
    "X = books[['period_num']]\n",
    "y = books['n'].values\n",
    "# TODO: END CODEBLOCK\n",
    "\n",
    "fit_and_plot_model(X=X, y_true=y, dates=books.date, sklearn_model=LinearRegression())"
   ],
   "metadata": {
    "collapsed": false,
    "pycharm": {
     "name": "#%%\n"
    }
   }
  },
  {
   "cell_type": "markdown",
   "id": "11128339-d59f-4fbc-b05f-1d513edabc21",
   "metadata": {
    "pycharm": {
     "name": "#%% md\n"
    }
   },
   "source": [
    "#### 3. Are there any noticeable break points? If so, add respective dummy(s) & interactions to the linear model."
   ]
  },
  {
   "cell_type": "code",
   "execution_count": null,
   "id": "ad28527f-5897-42f9-bf34-9f7d3ed7caa7",
   "metadata": {
    "pycharm": {
     "name": "#%%\n"
    }
   },
   "outputs": [],
   "source": [
    "def get_features_with_breakpoint(df_books: pd.DataFrame, year: str) -> pd.DataFrame:\n",
    "    # TODO: CREATE A NEW COLUMN WHICH IS TRUE IF BEFORE YEAR X (WHICH WILL BE YOUR BREAKING POINT) AND FALSE IF AFTER YEAR X\n",
    "    df_books['before_year_x'] = books.date < year\n",
    "    # TODO: END CODEBLOCK\n",
    "\n",
    "    return (\n",
    "        df_books[['period_num', 'before_year_x']]\n",
    "        .assign(interaction = lambda df: df.period_num*df.before_year_x)\n",
    "    )\n",
    "X_with_break = get_features_with_breakpoint(df_books=books, year='2006')\n",
    "\n",
    "fit_and_plot_model(X=X_with_break, y_true=y, dates=books.date, sklearn_model=LinearRegression())"
   ]
  },
  {
   "cell_type": "markdown",
   "id": "d781c327-86e1-45ee-ad5a-e1ee2843c4e1",
   "metadata": {
    "pycharm": {
     "name": "#%% md\n"
    }
   },
   "source": [
    "#### 4. Add seasonal dummies to the model. How frequent should they be to capture seasonality well?"
   ]
  },
  {
   "cell_type": "code",
   "execution_count": null,
   "id": "4f64d0cd-42a3-417b-bd41-88a3101cfc5d",
   "metadata": {
    "pycharm": {
     "name": "#%%\n"
    }
   },
   "outputs": [],
   "source": [
    "X_season = X_with_break\n",
    "\n",
    "# TODO: CREATE A NEW COLUMN WHICH INDICATES SEASONALITY (THE YEAR / THE QUARTER / THE SEASON / THE MONTH), WHATEVER YOU LIKE\n",
    "X_season['season'] = books.date.dt.month\n",
    "# TODO: END CODEBLOCK\n",
    "\n",
    "feature_transformer = ColumnTransformer(\n",
    "     [('numeric', 'passthrough', ['period_num', 'before_year_x', 'interaction']),\n",
    "      ('categorical', OneHotEncoder(sparse=False, drop='first'), ['season'])]\n",
    ")\n",
    "\n",
    "fit_and_plot_model(X=X_season, y_true=y, dates=books.date, sklearn_model=LinearRegression(), pre_processor=feature_transformer)"
   ]
  },
  {
   "cell_type": "markdown",
   "source": [
    "#### 5. Use a better model to improve the predictive power"
   ],
   "metadata": {
    "collapsed": false,
    "pycharm": {
     "name": "#%% md\n"
    }
   }
  },
  {
   "cell_type": "code",
   "execution_count": null,
   "outputs": [],
   "source": [
    "# TODO: FIND A BETTER MODEL ON THE SCIKIT LEARN WEBSITE AND TRY IT :-) (https://scikit-learn.org/stable/supervised_learning.html, tip: it is a regression problem)\n",
    "better_model = GradientBoostingRegressor()\n",
    "# TODO: END CODEBLOCK\n",
    "\n",
    "fit_and_plot_model(X=X_season, y_true=y, dates=books.date, sklearn_model=better_model, pre_processor=feature_transformer)"
   ],
   "metadata": {
    "collapsed": false,
    "pycharm": {
     "name": "#%%\n"
    }
   }
  },
  {
   "cell_type": "markdown",
   "source": [
    "#### 6. What will happen if we predict for the next year? Will it still perform well? Can you visualize this?"
   ],
   "metadata": {
    "collapsed": false,
    "pycharm": {
     "name": "#%% md\n"
    }
   }
  },
  {
   "cell_type": "code",
   "execution_count": null,
   "outputs": [],
   "source": [
    "def create_train_test_split(X_to_split, y_to_split) -> Tuple[pd.DataFrame, pd.DataFrame, pd.Series, pd.Series]:\n",
    "    # TODO: MAKE SURE WE HAVE A TRAIN TEST SPLIT OF THE DATASETS X_SEASON AND Y\n",
    "    train_split_idx = int(len(X_to_split) * 0.75)\n",
    "    X_train, X_test = X_to_split[:train_split_idx + 1], X_to_split[train_split_idx:]\n",
    "    y_train, y_test = y_to_split[:train_split_idx + 1], y_to_split[train_split_idx:]\n",
    "    # TODO: END CODEBLOCK\n",
    "\n",
    "    return X_train, X_test, y_train, y_test\n",
    "\n",
    "X_train, X_test, y_train, y_test = create_train_test_split(X_season, y)\n",
    "\n",
    "fit_and_plot_model(X=X_season, y_true=y, dates=books.date, sklearn_model=better_model, pre_processor=feature_transformer, X_train=X_train, y_train=y_train, X_test=X_test, y_test=y_test)"
   ],
   "metadata": {
    "collapsed": false,
    "pycharm": {
     "name": "#%%\n"
    }
   }
  },
  {
   "cell_type": "markdown",
   "source": [
    "#### 7. Can you think of other features to improve the model?"
   ],
   "metadata": {
    "collapsed": false,
    "pycharm": {
     "name": "#%% md\n"
    }
   }
  },
  {
   "cell_type": "code",
   "execution_count": null,
   "outputs": [],
   "source": [
    "X_improved = X_season\n",
    "improved_model = better_model\n",
    "\n",
    "# TODO: HERE YOU CAN DO ANYTHING TO MAKE THE MODEL BETTER. ADD FEATURES, CHANGE THE MODEL TO SOMETHING FANCY, WHATEVER YOU LIKE :)\n",
    "X_improved['sales 1 month ago'] = pd.Series(y).shift(1).fillna(-1)\n",
    "X_improved['sales 6 months ago'] = pd.Series(y).shift(6).fillna(-1)\n",
    "X_improved['sales 12 months ago'] = pd.Series(y).shift(12).fillna(-1)\n",
    "\n",
    "improved_feature_transformer = ColumnTransformer(\n",
    "     [('numeric', 'passthrough', ['period_num', 'before_year_x', 'interaction', 'sales 1 month ago', 'sales 6 months ago', 'sales 12 months ago']),\n",
    "      ('categorical', OneHotEncoder(sparse=False, drop='first'), ['season'])]\n",
    ")\n",
    "# TODO: END CODEBLOCK\n",
    "\n",
    "X_train, X_test, y_train, y_test = create_train_test_split(X_improved, y)\n",
    "\n",
    "fit_and_plot_model(X=X_season, y_true=y, dates=books.date, sklearn_model=improved_model, pre_processor=improved_feature_transformer, X_train=X_train, y_train=y_train, X_test=X_test, y_test=y_test)"
   ],
   "metadata": {
    "collapsed": false,
    "pycharm": {
     "name": "#%%\n"
    }
   }
  },
  {
   "cell_type": "code",
   "execution_count": null,
   "outputs": [],
   "source": [],
   "metadata": {
    "collapsed": false,
    "pycharm": {
     "name": "#%%\n"
    }
   }
  }
 ],
 "metadata": {
  "kernelspec": {
   "display_name": "Python 3 (ipykernel)",
   "language": "python",
   "name": "python3"
  },
  "language_info": {
   "codemirror_mode": {
    "name": "ipython",
    "version": 3
   },
   "file_extension": ".py",
   "mimetype": "text/x-python",
   "name": "python",
   "nbconvert_exporter": "python",
   "pygments_lexer": "ipython3",
   "version": "3.9.12"
  }
 },
 "nbformat": 4,
 "nbformat_minor": 5
}