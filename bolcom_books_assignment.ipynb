{
 "cells": [
  {
   "cell_type": "markdown",
   "source": [
    "# Bol.com Forecasting business case"
   ],
   "metadata": {
    "collapsed": false,
    "pycharm": {
     "name": "#%% md\n"
    }
   }
  },
  {
   "cell_type": "markdown",
   "source": [
    "#### Imports"
   ],
   "metadata": {
    "collapsed": false,
    "pycharm": {
     "name": "#%% md\n"
    }
   }
  },
  {
   "cell_type": "code",
   "execution_count": null,
   "outputs": [],
   "source": [
    "# Nothing needs to be changed here, just some importing of libraries\n",
    "\n",
    "from typing import Optional, List, Tuple\n",
    "\n",
    "import matplotlib.pyplot as plt\n",
    "import numpy as np\n",
    "import pandas as pd\n",
    "\n",
    "%matplotlib inline\n",
    "plt.rcParams[\"font.size\"] = 14\n",
    "plt.rcParams['figure.figsize'] = (16, 4.0)\n",
    "\n",
    "from sklearn.linear_model import LinearRegression\n",
    "from sklearn.base import BaseEstimator\n",
    "from sklearn.ensemble import GradientBoostingRegressor\n",
    "from sklearn.pipeline import Pipeline\n",
    "from sklearn.preprocessing import OneHotEncoder\n",
    "from sklearn.compose import ColumnTransformer\n",
    "from sklearn.metrics import mean_absolute_error"
   ],
   "metadata": {
    "collapsed": false,
    "pycharm": {
     "name": "#%%\n",
     "is_executing": true
    }
   }
  },
  {
   "cell_type": "code",
   "execution_count": null,
   "id": "1f3cf94a-8193-45df-a0d8-00fb081f37f8",
   "metadata": {
    "pycharm": {
     "name": "#%%\n"
    }
   },
   "outputs": [],
   "source": [
    "# Nothing needs to be changed here, this loads the dataset\n",
    "\n",
    "books = pd.read_csv('bol_books.csv')\n",
    "books['date'] = pd.to_datetime(books.date)\n",
    "books"
   ]
  },
  {
   "cell_type": "code",
   "execution_count": null,
   "id": "74ec45fa-4b4a-430a-bcfb-4e756942fda6",
   "metadata": {
    "pycharm": {
     "name": "#%%\n"
    }
   },
   "outputs": [],
   "source": [
    "# Nothing needs to be changed here, this plots the dataset\n",
    "\n",
    "plt.plot(books.date, books.n)"
   ]
  },
  {
   "cell_type": "markdown",
   "id": "5023b116-08bd-4859-b30b-9ab4f8f1fda6",
   "metadata": {
    "pycharm": {
     "name": "#%% md\n"
    }
   },
   "source": [
    "#### 1. Plot two centered rolling means with two different windows"
   ]
  },
  {
   "cell_type": "markdown",
   "source": [
    "> We want to see how well we can do without \"Machine Learning\". How well does it do if you just take the average sale of the past x months? Lets check it out here!"
   ],
   "metadata": {
    "collapsed": false,
    "pycharm": {
     "name": "#%% md\n"
    }
   }
  },
  {
   "cell_type": "code",
   "execution_count": null,
   "id": "f768b182-28d5-40f3-8b8e-d34604481b8a",
   "metadata": {
    "pycharm": {
     "name": "#%%\n"
    }
   },
   "outputs": [],
   "source": [
    "# TODO: CREATE A ROLLING WINDOW OF THE PREVIOUS SALES OF THE lAST 10 MONTHS, THIS CAN BE A NICE INITIAL PREDICTOR (https://pandas.pydata.org/pandas-docs/stable/reference/api/pandas.DataFrame.rolling.html)\n",
    "rolling_window_sales: List[float] = ...\n",
    "# TODO: END CODEBLOCK\n",
    "\n",
    "plt.plot(books.date, books.n, label='Actual sales')\n",
    "plt.plot(books.date, rolling_window_sales, label='Rolling window sales')\n",
    "plt.legend()\n",
    "plt.show()"
   ]
  },
  {
   "cell_type": "markdown",
   "id": "dc768f10-7a99-4462-9d69-bb0eec87373a",
   "metadata": {
    "pycharm": {
     "name": "#%% md\n"
    }
   },
   "source": [
    "#### 2. Fit and plot a linear model. Does it adequately represent the trend?"
   ]
  },
  {
   "cell_type": "markdown",
   "source": [
    "> Now we are going to train our first Machine Learning model. We will keep it simple for now, and will use a simple linear regression model. A lot of the code has been written already for you, fill in the blanks and see how well a linear model performs."
   ],
   "metadata": {
    "collapsed": false,
    "pycharm": {
     "name": "#%% md\n"
    }
   }
  },
  {
   "cell_type": "code",
   "execution_count": null,
   "outputs": [],
   "source": [
    "# Nothing needs to be changed here\n",
    "\n",
    "def fit_and_plot_model(X: pd.DataFrame, y_true: pd.Series, dates: List, sklearn_model: BaseEstimator, pre_processor: Optional[ColumnTransformer] = None, X_train: Optional[pd.DataFrame] = None, y_train: Optional[pd.DataFrame] = None, X_test: Optional[pd.DataFrame] = None, y_test: Optional[pd.DataFrame] = None):\n",
    "    \"\"\"\n",
    "    Helper method to fit / train a SKLearn model and to plot the results\n",
    "    :param X: The features of the model, which is a pandas dataframe\n",
    "    :param y_true: The target of the model, which is a pandas series that contains the monthly book sales\n",
    "    :param dates: A list of dates that correspond to the monthly book sales, which length is equal to the length of y_true and the amount of rows in X.\n",
    "    :param sklearn_model: The model which we want to train\n",
    "    :param pre_processor: Optional, if we want to do some pre_processing on the features before we hand them to the model (SKlearn Column Transformer)\n",
    "    :param X_train: Optional, if we want to split the dataset into a training dataset and testing dataset (later in the assignment)\n",
    "    :param y_train: Optional, if we want to split the dataset into a training dataset and testing dataset (later in the assignment)\n",
    "    :param X_test: Optional, if we want to split the dataset into a training dataset and testing dataset (later in the assignment)\n",
    "    :param y_test: Optional, if we want to split the dataset into a training dataset and testing dataset (later in the assignment)\n",
    "    :return:\n",
    "    \"\"\"\n",
    "    pipeline_steps = [('model', sklearn_model)]\n",
    "    if pre_processor:\n",
    "        pipeline_steps.insert(0, ('preprocess', pre_processor))\n",
    "\n",
    "    pipeline = Pipeline(pipeline_steps)\n",
    "\n",
    "    if X_train is None or y_train is None or X_test is None or y_test is None:\n",
    "        X_train = X\n",
    "        y_train = y_true\n",
    "        X_test = X\n",
    "        y_test = y_true\n",
    "    else:\n",
    "        plt.axvline(x=dates[len(X_train)], label='Start of the test set', c='red')\n",
    "\n",
    "    pipeline = pipeline.fit(X_train, y_train)\n",
    "\n",
    "    y_pred = pipeline.predict(X_test)\n",
    "\n",
    "    print(f\"Mean absolute error is {round(mean_absolute_error(y_test, y_pred), 3)}\")\n",
    "\n",
    "    plt.plot(dates, y_true, label='Actual sales')\n",
    "    plt.plot(dates, pipeline.predict(X), label='Predicted sales')\n",
    "    plt.legend()\n",
    "    plt.show()"
   ],
   "metadata": {
    "collapsed": false,
    "pycharm": {
     "name": "#%%\n",
     "is_executing": true
    }
   }
  },
  {
   "cell_type": "code",
   "execution_count": null,
   "outputs": [],
   "source": [
    "# TODO: DEFINE X AS A DATAFRAME WITH 1 COLUMN OF A NUMERIC SEQUENCE THAT INCREASES 1 BY 1 STARTING FROM 0. WE WILL USE THIS TO LET THE MODEL KNOW FOR WHAT DATE IT NEEDS TO PREDICT\n",
    "# TODO: DEFINE Y AS THE TARGET (THE ACTUAL SALES NUMBERS). THIS IS THE TARGET THAT THE MODEL WILL TRY TO LEARN\n",
    "X: pd.DataFrame = ...\n",
    "y: List[int] = ...\n",
    "# TODO: END CODEBLOCK\n",
    "\n",
    "fit_and_plot_model(X=X, y_true=y, dates=books.date, sklearn_model=LinearRegression())"
   ],
   "metadata": {
    "collapsed": false,
    "pycharm": {
     "name": "#%%\n"
    }
   }
  },
  {
   "cell_type": "markdown",
   "id": "11128339-d59f-4fbc-b05f-1d513edabc21",
   "metadata": {
    "pycharm": {
     "name": "#%% md\n"
    }
   },
   "source": [
    "#### 3. Are there any noticeable break points? If so, add respective dummy(s) & interactions to the linear model."
   ]
  },
  {
   "cell_type": "markdown",
   "source": [
    "> It could be that in 1 point of time the data starts to behave differently. This is what we call a breaking point. Do you see such a breaking point in the dataset? If so, fix it by filling in the blanks"
   ],
   "metadata": {
    "collapsed": false,
    "pycharm": {
     "name": "#%% md\n"
    }
   }
  },
  {
   "cell_type": "code",
   "execution_count": null,
   "id": "ad28527f-5897-42f9-bf34-9f7d3ed7caa7",
   "metadata": {
    "pycharm": {
     "name": "#%%\n"
    }
   },
   "outputs": [],
   "source": [
    "def get_features_with_breakpoint(df_books: pd.DataFrame, year: str) -> pd.DataFrame:\n",
    "    # TODO: CREATE A NEW COLUMN WHICH IS TRUE IF BEFORE YEAR X (WHICH WILL BE YOUR BREAKING POINT) AND FALSE IF AFTER YEAR X\n",
    "    df_books['before_year_x'] = ... (use the year variable here)\n",
    "    # TODO: END CODEBLOCK\n",
    "\n",
    "    return (\n",
    "        df_books[['period_num', 'before_year_x']]\n",
    "        .assign(interaction = lambda df: df.period_num*df.before_year_x)\n",
    "    )\n",
    "X_with_break = get_features_with_breakpoint(df_books=books, year='2006')\n",
    "\n",
    "fit_and_plot_model(X=X_with_break, y_true=y, dates=books.date, sklearn_model=LinearRegression())"
   ]
  },
  {
   "cell_type": "markdown",
   "id": "d781c327-86e1-45ee-ad5a-e1ee2843c4e1",
   "metadata": {
    "pycharm": {
     "name": "#%% md\n"
    }
   },
   "source": [
    "#### 4. Add seasonal dummies to the model. How frequent should they be to capture seasonality well?"
   ]
  },
  {
   "cell_type": "markdown",
   "source": [
    "> Seasonality plays an important role in the field of Forecasting. Christmas trees are never bought in summer, whilst sunblocker is never bought during Christmas. Can you deal with seasonality here to improve the model?"
   ],
   "metadata": {
    "collapsed": false,
    "pycharm": {
     "name": "#%% md\n"
    }
   }
  },
  {
   "cell_type": "code",
   "execution_count": null,
   "id": "4f64d0cd-42a3-417b-bd41-88a3101cfc5d",
   "metadata": {
    "pycharm": {
     "name": "#%%\n"
    }
   },
   "outputs": [],
   "source": [
    "X_season = X_with_break\n",
    "\n",
    "# TODO: CREATE A NEW COLUMN WHICH INDICATES SEASONALITY (THE YEAR / THE QUARTER / THE SEASON / THE MONTH), WHATEVER YOU LIKE\n",
    "X_season['season'] = ...\n",
    "# TODO: END CODEBLOCK\n",
    "\n",
    "feature_transformer = ColumnTransformer(\n",
    "     [('numeric', 'passthrough', ['period_num', 'before_year_x', 'interaction']),\n",
    "      ('categorical', OneHotEncoder(sparse=False, drop='first'), ['season'])]\n",
    ")\n",
    "\n",
    "fit_and_plot_model(X=X_season, y_true=y, dates=books.date, sklearn_model=LinearRegression(), pre_processor=feature_transformer)"
   ]
  },
  {
   "cell_type": "markdown",
   "source": [
    "#### 5. Use a better model to improve the predictive power"
   ],
   "metadata": {
    "collapsed": false,
    "pycharm": {
     "name": "#%% md\n"
    }
   }
  },
  {
   "cell_type": "markdown",
   "source": [
    "> So far we only used a simple linear model, but of course there are many more models which we can try out. Lets try a different one and lets see if the results change"
   ],
   "metadata": {
    "collapsed": false,
    "pycharm": {
     "name": "#%% md\n"
    }
   }
  },
  {
   "cell_type": "code",
   "execution_count": null,
   "outputs": [],
   "source": [
    "# TODO: FIND A BETTER MODEL ON THE SCIKIT LEARN WEBSITE AND TRY IT :-) (https://scikit-learn.org/stable/supervised_learning.html, tip: it is a regression problem)\n",
    "better_model = ...\n",
    "# TODO: END CODEBLOCK\n",
    "\n",
    "fit_and_plot_model(X=X_season, y_true=y, dates=books.date, sklearn_model=better_model, pre_processor=feature_transformer)"
   ],
   "metadata": {
    "collapsed": false,
    "pycharm": {
     "name": "#%%\n"
    }
   }
  },
  {
   "cell_type": "markdown",
   "source": [
    "#### 6. What will happen if we predict for the next year? Will it still perform well? Can you visualize this?"
   ],
   "metadata": {
    "collapsed": false,
    "pycharm": {
     "name": "#%% md\n"
    }
   }
  },
  {
   "cell_type": "markdown",
   "source": [
    "> So far we trained our model on the same data as we tested our model. If you ask Data Scientists, they will tell you that is an absolute no go. But why? Lets split the dataset in a training and testing dataset and see what happens."
   ],
   "metadata": {
    "collapsed": false,
    "pycharm": {
     "name": "#%% md\n"
    }
   }
  },
  {
   "cell_type": "code",
   "execution_count": null,
   "outputs": [],
   "source": [
    "def create_train_test_split(X_to_split, y_to_split) -> Tuple[pd.DataFrame, pd.DataFrame, pd.Series, pd.Series]:\n",
    "    # TODO: MAKE SURE WE HAVE A TRAIN TEST SPLIT OF THE DATASETS X_SEASON AND Y\n",
    "    X_train, X_test = ..., ... (use X_to_split as the full X dataset)\n",
    "    y_train, y_test = ..., ... (use y_to_split as the full y dataset)\n",
    "    # TODO: END CODEBLOCK\n",
    "\n",
    "    return X_train, X_test, y_train, y_test\n",
    "\n",
    "X_train, X_test, y_train, y_test = create_train_test_split(X_season, y)\n",
    "\n",
    "fit_and_plot_model(X=X_season, y_true=y, dates=books.date, sklearn_model=better_model, pre_processor=feature_transformer, X_train=X_train, y_train=y_train, X_test=X_test, y_test=y_test)"
   ],
   "metadata": {
    "collapsed": false,
    "pycharm": {
     "name": "#%%\n"
    }
   }
  },
  {
   "cell_type": "markdown",
   "source": [
    "#### 7. Can you think of other features to improve the model?"
   ],
   "metadata": {
    "collapsed": false,
    "pycharm": {
     "name": "#%% md\n"
    }
   }
  },
  {
   "cell_type": "markdown",
   "source": [
    "> This is the section where you can go nuts if you want. So far you only had to program small things in python to see the results, but now it is completely up to you. The model is not perfect by a long shot, lots of improvements are possible. So if you still have time, lets see how much improvement you can achieve. Good luck!"
   ],
   "metadata": {
    "collapsed": false,
    "pycharm": {
     "name": "#%% md\n"
    }
   }
  },
  {
   "cell_type": "code",
   "execution_count": null,
   "outputs": [],
   "source": [
    "X_improved = X_season\n",
    "improved_model = better_model\n",
    "\n",
    "# TODO: HERE YOU CAN DO ANYTHING TO MAKE THE MODEL BETTER. ADD FEATURES, CHANGE THE MODEL TO SOMETHING FANCY, WHATEVER YOU LIKE :)\n",
    "...\n",
    "...\n",
    "...\n",
    "\n",
    "# If you want to improve the features, make changes to X_improved\n",
    "\n",
    "# If you want to change the model, make changes to improved_model\n",
    "\n",
    "# If you want you can add features in here. If not, remove the \"new feature 1\" \"new feature 2\" strings from the array below\n",
    "improved_feature_transformer = ColumnTransformer(\n",
    "     [('numeric', 'passthrough', ['period_num', 'before_year_x', 'interaction', 'new feature 1', 'new feature 2']),\n",
    "      ('categorical', OneHotEncoder(sparse=False, drop='first'), ['season'])]\n",
    ")\n",
    "# TODO: END CODEBLOCK\n",
    "\n",
    "X_train, X_test, y_train, y_test = create_train_test_split(X_improved, y)\n",
    "\n",
    "fit_and_plot_model(X=X_season, y_true=y, dates=books.date, sklearn_model=improved_model, pre_processor=improved_feature_transformer, X_train=X_train, y_train=y_train, X_test=X_test, y_test=y_test)"
   ],
   "metadata": {
    "collapsed": false,
    "pycharm": {
     "name": "#%%\n"
    }
   }
  },
  {
   "cell_type": "code",
   "execution_count": null,
   "outputs": [],
   "source": [],
   "metadata": {
    "collapsed": false,
    "pycharm": {
     "name": "#%%\n"
    }
   }
  }
 ],
 "metadata": {
  "kernelspec": {
   "display_name": "Python 3 (ipykernel)",
   "language": "python",
   "name": "python3"
  },
  "language_info": {
   "codemirror_mode": {
    "name": "ipython",
    "version": 3
   },
   "file_extension": ".py",
   "mimetype": "text/x-python",
   "name": "python",
   "nbconvert_exporter": "python",
   "pygments_lexer": "ipython3",
   "version": "3.9.12"
  }
 },
 "nbformat": 4,
 "nbformat_minor": 5
}